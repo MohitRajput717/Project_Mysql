{
 "cells": [
  {
   "cell_type": "code",
   "execution_count": 1,
   "id": "dde5cad4",
   "metadata": {},
   "outputs": [],
   "source": [
    "import sqlite3"
   ]
  },
  {
   "cell_type": "code",
   "execution_count": 2,
   "id": "b43b85ff",
   "metadata": {},
   "outputs": [],
   "source": [
    "db = sqlite3.connect(\"mohit.db\")"
   ]
  },
  {
   "cell_type": "code",
   "execution_count": 4,
   "id": "69ba1b8b",
   "metadata": {},
   "outputs": [
    {
     "data": {
      "text/plain": [
       "<sqlite3.Connection at 0x17971a6e3f0>"
      ]
     },
     "execution_count": 4,
     "metadata": {},
     "output_type": "execute_result"
    }
   ],
   "source": [
    "db"
   ]
  },
  {
   "cell_type": "code",
   "execution_count": 6,
   "id": "8fe15c11",
   "metadata": {},
   "outputs": [],
   "source": [
    "c = db.cursor()"
   ]
  },
  {
   "cell_type": "code",
   "execution_count": 7,
   "id": "7cf99e95",
   "metadata": {},
   "outputs": [
    {
     "data": {
      "text/plain": [
       "<sqlite3.Cursor at 0x17971a5fe30>"
      ]
     },
     "execution_count": 7,
     "metadata": {},
     "output_type": "execute_result"
    }
   ],
   "source": [
    "c.execute('create table johan(name text, batch id int, marks real)')"
   ]
  },
  {
   "cell_type": "code",
   "execution_count": 12,
   "id": "cf114d3d",
   "metadata": {},
   "outputs": [
    {
     "data": {
      "text/plain": [
       "<sqlite3.Cursor at 0x17971a5fe30>"
      ]
     },
     "execution_count": 12,
     "metadata": {},
     "output_type": "execute_result"
    }
   ],
   "source": [
    "c.execute(\"insert into johan values('mohit',5657,451.32)\")\n",
    "c.execute(\"insert into johan values('mohit',5698,401.67)\")\n",
    "c.execute(\"insert into johan values('mohit',5678,451.67)\")\n",
    "c.execute(\"insert into johan values('mohit',5678,451.67)\")\n",
    "c.execute(\"insert into johan values('mohit',5678,451.67)\")\n",
    "c.execute(\"insert into johan values('mohit',5678,451.67)\")\n",
    "c.execute(\"insert into johan values('mohit',5678,451.67)\")\n",
    "c.execute(\"insert into johan values('mohit',5678,451.67)\")"
   ]
  },
  {
   "cell_type": "code",
   "execution_count": 15,
   "id": "22b60aa0",
   "metadata": {},
   "outputs": [],
   "source": [
    "data = c.execute(\"select * from johan\")"
   ]
  },
  {
   "cell_type": "code",
   "execution_count": 16,
   "id": "96522028",
   "metadata": {},
   "outputs": [
    {
     "name": "stdout",
     "output_type": "stream",
     "text": [
      "('mohit', 5678, 451.67)\n",
      "('mohit', 5657, 451.32)\n",
      "('mohit', 5698, 401.67)\n",
      "('mohit', 5678, 451.67)\n",
      "('mohit', 5678, 451.67)\n",
      "('mohit', 5678, 451.67)\n",
      "('mohit', 5678, 451.67)\n",
      "('mohit', 5678, 451.67)\n",
      "('mohit', 5678, 451.67)\n"
     ]
    }
   ],
   "source": [
    "for i in data:\n",
    "    print(i)"
   ]
  },
  {
   "cell_type": "code",
   "execution_count": 17,
   "id": "d68fbdd8",
   "metadata": {},
   "outputs": [],
   "source": [
    "db.commit()"
   ]
  },
  {
   "cell_type": "code",
   "execution_count": 18,
   "id": "cd50e37a",
   "metadata": {},
   "outputs": [],
   "source": [
    "db.close()"
   ]
  },
  {
   "cell_type": "code",
   "execution_count": 26,
   "id": "9360b911",
   "metadata": {},
   "outputs": [],
   "source": [
    "db = sqlite3.connect(\"mohit.db\")"
   ]
  },
  {
   "cell_type": "code",
   "execution_count": 27,
   "id": "c02cea0b",
   "metadata": {},
   "outputs": [],
   "source": [
    "c = db.cursor()"
   ]
  },
  {
   "cell_type": "code",
   "execution_count": 32,
   "id": "fb6c3aac",
   "metadata": {},
   "outputs": [],
   "source": [
    "data = c.execute(\"select * from johan where marks > 450\")"
   ]
  },
  {
   "cell_type": "code",
   "execution_count": 33,
   "id": "62df902d",
   "metadata": {},
   "outputs": [
    {
     "name": "stdout",
     "output_type": "stream",
     "text": [
      "('mohit', 5678, 451.67)\n",
      "('mohit', 5657, 451.32)\n",
      "('mohit', 5678, 451.67)\n",
      "('mohit', 5678, 451.67)\n",
      "('mohit', 5678, 451.67)\n",
      "('mohit', 5678, 451.67)\n",
      "('mohit', 5678, 451.67)\n",
      "('mohit', 5678, 451.67)\n"
     ]
    }
   ],
   "source": [
    "for i in data:\n",
    "    print(i)"
   ]
  },
  {
   "cell_type": "code",
   "execution_count": 30,
   "id": "be07f622",
   "metadata": {},
   "outputs": [],
   "source": [
    "data = c.execute(\"select name, marks from johan\")"
   ]
  },
  {
   "cell_type": "code",
   "execution_count": 31,
   "id": "ba945233",
   "metadata": {},
   "outputs": [
    {
     "name": "stdout",
     "output_type": "stream",
     "text": [
      "('mohit', 451.67)\n",
      "('mohit', 451.32)\n",
      "('mohit', 401.67)\n",
      "('mohit', 451.67)\n",
      "('mohit', 451.67)\n",
      "('mohit', 451.67)\n",
      "('mohit', 451.67)\n",
      "('mohit', 451.67)\n",
      "('mohit', 451.67)\n"
     ]
    }
   ],
   "source": [
    "for i in data:\n",
    "    print(i)"
   ]
  },
  {
   "cell_type": "code",
   "execution_count": 35,
   "id": "8f9df4e5",
   "metadata": {},
   "outputs": [],
   "source": [
    "data = c.execute(\"select name, marks from johan order by marks\")"
   ]
  },
  {
   "cell_type": "code",
   "execution_count": 36,
   "id": "a441260a",
   "metadata": {},
   "outputs": [
    {
     "name": "stdout",
     "output_type": "stream",
     "text": [
      "('mohit', 401.67)\n",
      "('mohit', 451.32)\n",
      "('mohit', 451.67)\n",
      "('mohit', 451.67)\n",
      "('mohit', 451.67)\n",
      "('mohit', 451.67)\n",
      "('mohit', 451.67)\n",
      "('mohit', 451.67)\n",
      "('mohit', 451.67)\n"
     ]
    }
   ],
   "source": [
    "for i in data:\n",
    "    print(i)"
   ]
  },
  {
   "cell_type": "code",
   "execution_count": 37,
   "id": "16128f72",
   "metadata": {},
   "outputs": [],
   "source": [
    "db.close()"
   ]
  },
  {
   "cell_type": "code",
   "execution_count": 40,
   "id": "1baf1d01",
   "metadata": {},
   "outputs": [],
   "source": [
    "db = sqlite3.connect(\"person.db\")"
   ]
  },
  {
   "cell_type": "code",
   "execution_count": 41,
   "id": "8203a0bb",
   "metadata": {},
   "outputs": [],
   "source": [
    "c = db.cursor()"
   ]
  },
  {
   "cell_type": "code",
   "execution_count": 44,
   "id": "242a2d67",
   "metadata": {},
   "outputs": [
    {
     "data": {
      "text/plain": [
       "<sqlite3.Cursor at 0x17972dd3490>"
      ]
     },
     "execution_count": 44,
     "metadata": {},
     "output_type": "execute_result"
    }
   ],
   "source": [
    "c.execute(\"create table person1 (name text, emailid text, age int, salary real)\")"
   ]
  },
  {
   "cell_type": "code",
   "execution_count": 47,
   "id": "815e1dab",
   "metadata": {},
   "outputs": [
    {
     "data": {
      "text/plain": [
       "<sqlite3.Cursor at 0x17972dd3490>"
      ]
     },
     "execution_count": 47,
     "metadata": {},
     "output_type": "execute_result"
    }
   ],
   "source": [
    "c.execute(\"insert into person1 values('lucky','luc23@gmail.com',234,30000)\")\n",
    "c.execute(\"insert into person1 values('sonu','sonu23@gmail.com',134,20000)\")\n",
    "c.execute(\"insert into person1 values('chinnu','chinnu23@gmail.com',334,25000)\")\n",
    "c.execute(\"insert into person1 values('minue','minu23@gmail.com',434,40000)\")"
   ]
  },
  {
   "cell_type": "code",
   "execution_count": 48,
   "id": "9cb46044",
   "metadata": {},
   "outputs": [],
   "source": [
    "data = c.execute(\"select * from person1\")"
   ]
  },
  {
   "cell_type": "code",
   "execution_count": 49,
   "id": "5699df55",
   "metadata": {},
   "outputs": [
    {
     "name": "stdout",
     "output_type": "stream",
     "text": [
      "('lucky', 'luc23@gmail.com', 234, 30000.0)\n",
      "('sonu', 'sonu23@gmail.com', 134, 20000.0)\n",
      "('chinnu', 'chinnu23@gmail.com', 334, 25000.0)\n",
      "('minue', 'minu23@gmail.com', 434, 40000.0)\n"
     ]
    }
   ],
   "source": [
    "for i in data:\n",
    "    print(i)"
   ]
  },
  {
   "cell_type": "code",
   "execution_count": 50,
   "id": "6287e916",
   "metadata": {},
   "outputs": [],
   "source": [
    "db.commit()"
   ]
  },
  {
   "cell_type": "code",
   "execution_count": 51,
   "id": "4da1c625",
   "metadata": {},
   "outputs": [],
   "source": [
    "db.close()"
   ]
  },
  {
   "cell_type": "code",
   "execution_count": 53,
   "id": "2543dfd8",
   "metadata": {},
   "outputs": [],
   "source": [
    "db = sqlite3.connect('mohit.db')"
   ]
  },
  {
   "cell_type": "code",
   "execution_count": 54,
   "id": "9b8838c0",
   "metadata": {},
   "outputs": [],
   "source": [
    "c = db.cursor()"
   ]
  },
  {
   "cell_type": "code",
   "execution_count": 55,
   "id": "aebc70b4",
   "metadata": {},
   "outputs": [
    {
     "data": {
      "text/plain": [
       "<sqlite3.Cursor at 0x1797308f810>"
      ]
     },
     "execution_count": 55,
     "metadata": {},
     "output_type": "execute_result"
    }
   ],
   "source": [
    "c.execute('drop table johan')"
   ]
  },
  {
   "cell_type": "code",
   "execution_count": 56,
   "id": "bd3d4fe2",
   "metadata": {},
   "outputs": [
    {
     "ename": "OperationalError",
     "evalue": "no such table: johan",
     "output_type": "error",
     "traceback": [
      "\u001b[1;31m---------------------------------------------------------------------------\u001b[0m",
      "\u001b[1;31mOperationalError\u001b[0m                          Traceback (most recent call last)",
      "\u001b[1;32m<ipython-input-56-e5237a863839>\u001b[0m in \u001b[0;36m<module>\u001b[1;34m\u001b[0m\n\u001b[1;32m----> 1\u001b[1;33m \u001b[0mc\u001b[0m\u001b[1;33m.\u001b[0m\u001b[0mexecute\u001b[0m\u001b[1;33m(\u001b[0m\u001b[1;34m\"select * from johan\"\u001b[0m\u001b[1;33m)\u001b[0m\u001b[1;33m\u001b[0m\u001b[1;33m\u001b[0m\u001b[0m\n\u001b[0m",
      "\u001b[1;31mOperationalError\u001b[0m: no such table: johan"
     ]
    }
   ],
   "source": [
    "c.execute(\"select * from johan\")"
   ]
  },
  {
   "cell_type": "code",
   "execution_count": 58,
   "id": "a34f35db",
   "metadata": {},
   "outputs": [
    {
     "name": "stdout",
     "output_type": "stream",
     "text": [
      " Volume in drive C is Windows\n",
      " Volume Serial Number is 2EBA-6258\n",
      "\n",
      " Directory of C:\\Users\\golu\n",
      "\n",
      "25-03-2022  08:02    <DIR>          .\n",
      "25-03-2022  08:02    <DIR>          ..\n",
      "18-01-2022  13:53    <DIR>          .android\n",
      "08-12-2021  21:25    <DIR>          .conda\n",
      "08-12-2021  19:43                43 .condarc\n",
      "24-10-2021  07:53               195 .gitconfig\n",
      "25-03-2022  07:30    <DIR>          .ipynb_checkpoints\n",
      "10-11-2020  21:04    <DIR>          .ipython\n",
      "08-01-2022  10:42    <DIR>          .jupyter\n",
      "23-06-2021  12:32    <DIR>          .matplotlib\n",
      "31-12-2020  07:09    <DIR>          .openshot_qt\n",
      "28-11-2021  06:36                33 .python_history\n",
      "23-03-2022  19:45    <DIR>          __pycache__\n",
      "12-03-2022  13:18            78,564 12 march.ipynb\n",
      "13-03-2022  11:59            30,111 13 march.ipynb\n",
      "27-01-2022  20:04    <DIR>          3D Objects\n",
      "17-01-2022  14:19    <DIR>          anaconda3\n",
      "10-03-2022  22:09             4,891 Assestment_15.ipynb\n",
      "15-03-2022  10:47            11,361 Assigment_16.ipynb\n",
      "15-03-2022  12:10             9,835 Assignment_17.ipynb\n",
      "24-03-2022  04:30             5,161 Assignment_18.ipynb\n",
      "25-03-2022  05:51            47,955 connected mongodb to python.ipynb\n",
      "30-12-2020  06:22    <DIR>          Contacts\n",
      "28-02-2022  05:39    <DIR>          Desktop\n",
      "20-03-2022  08:32    <DIR>          Documents\n",
      "25-03-2022  05:52    <DIR>          Downloads\n",
      "30-12-2020  06:22    <DIR>          Favorites\n",
      "24-02-2021  13:10    <DIR>          files\n",
      "15-03-2022  09:35           333,888 files.xlsx\n",
      "15-03-2022  09:35           333,888 files2.xlsx\n",
      "25-03-2022  07:45                 0 johan.db\n",
      "30-12-2020  06:22    <DIR>          Links\n",
      "10-12-2021  21:37    <DIR>          logging\n",
      "02-01-2021  07:40    <DIR>          Microsoft\n",
      "10-12-2021  06:35    <DIR>          mohit\n",
      "25-03-2022  08:00             8,192 mohit.db\n",
      "30-12-2020  06:22    <DIR>          Music\n",
      "09-08-2021  20:10    <DIR>          OneDrive\n",
      "25-03-2022  07:51                 0 persion.db\n",
      "25-03-2022  07:58             8,192 person.db\n",
      "30-12-2020  06:22    <DIR>          Pictures\n",
      "05-03-2022  05:56    <DIR>          PycharmProjects\n",
      "30-12-2020  06:22    <DIR>          Saved Games\n",
      "17-08-2021  06:13    <DIR>          seaborn-data\n",
      "30-12-2020  06:22    <DIR>          Searches\n",
      "21-03-2022  17:51                51 smr.txt\n",
      "25-03-2022  08:02            10,609 sqllite connection with python.ipynb\n",
      "21-03-2022  17:48                 0 test.txt\n",
      "17-01-2022  11:15    <DIR>          Untitled Folder\n",
      "15-03-2022  09:46            18,278 Untitled.ipynb\n",
      "23-03-2022  04:44           158,874 Untitled1.ipynb\n",
      "20-03-2022  10:45             6,068 Untitled2.ipynb\n",
      "23-03-2022  06:52            16,813 Untitled3.ipynb\n",
      "24-03-2022  19:14           147,347 Untitled4.ipynb\n",
      "30-11-2021  07:45    <DIR>          Videos\n",
      "23-03-2022  20:30                50 zoo.py\n",
      "              25 File(s)      1,230,399 bytes\n",
      "              31 Dir(s)  807,457,255,424 bytes free\n"
     ]
    }
   ],
   "source": [
    "ls"
   ]
  },
  {
   "cell_type": "code",
   "execution_count": 59,
   "id": "3e79fcb5",
   "metadata": {},
   "outputs": [],
   "source": [
    "db.close()"
   ]
  },
  {
   "cell_type": "code",
   "execution_count": 61,
   "id": "e139d1c1",
   "metadata": {},
   "outputs": [],
   "source": [
    "db = sqlite3.connect('person1.db')"
   ]
  },
  {
   "cell_type": "code",
   "execution_count": 62,
   "id": "771a5f0c",
   "metadata": {},
   "outputs": [],
   "source": [
    "c = db.cursor()"
   ]
  },
  {
   "cell_type": "code",
   "execution_count": null,
   "id": "a5f7b892",
   "metadata": {},
   "outputs": [],
   "source": []
  }
 ],
 "metadata": {
  "kernelspec": {
   "display_name": "Python 3",
   "language": "python",
   "name": "python3"
  },
  "language_info": {
   "codemirror_mode": {
    "name": "ipython",
    "version": 3
   },
   "file_extension": ".py",
   "mimetype": "text/x-python",
   "name": "python",
   "nbconvert_exporter": "python",
   "pygments_lexer": "ipython3",
   "version": "3.8.3"
  }
 },
 "nbformat": 4,
 "nbformat_minor": 5
}
